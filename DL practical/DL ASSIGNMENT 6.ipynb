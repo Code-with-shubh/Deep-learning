{
 "cells": [
  {
   "cell_type": "code",
   "execution_count": 98,
   "id": "8df09842",
   "metadata": {},
   "outputs": [],
   "source": [
    "import tensorflow as tf\n",
    "from tensorflow.keras.datasets import cifar10\n",
    "from tensorflow.keras.applications import VGG16\n",
    "from tensorflow.keras.models import Sequential\n",
    "from tensorflow.keras.layers import Flatten, Dense\n",
    "from tensorflow.keras.utils import to_categorical\n"
   ]
  },
  {
   "cell_type": "code",
   "execution_count": 99,
   "id": "07c1e08f",
   "metadata": {},
   "outputs": [],
   "source": [
    "# Load CIFAR-10 dataset\n",
    "(itrain, ltrain), (itest, ltest) = cifar10.load_data()\n"
   ]
  },
  {
   "cell_type": "code",
   "execution_count": 100,
   "id": "e4a730fd",
   "metadata": {},
   "outputs": [],
   "source": [
    "# Preprocess the data\n",
    "itrain = itrain / 255.0\n",
    "itest = itest / 255.0\n",
    "ltrain = to_categorical(ltrain)\n",
    "ltest = to_categorical(ltest)"
   ]
  },
  {
   "cell_type": "code",
   "execution_count": 101,
   "id": "8564f2ec",
   "metadata": {},
   "outputs": [],
   "source": [
    "# Load pre-trained VGG16 model (excluding the top fully-connected layers)\n",
    "basem = VGG16(weights='imagenet', include_top=False, input_shape=(32, 32, 3))"
   ]
  },
  {
   "cell_type": "code",
   "execution_count": 102,
   "id": "87921a82",
   "metadata": {},
   "outputs": [],
   "source": [
    "# Freeze the pre-trained layers\n",
    "for layer in basem.layers:\n",
    "   layer.trainable = False"
   ]
  },
  {
   "cell_type": "code",
   "execution_count": 103,
   "id": "7533f443",
   "metadata": {},
   "outputs": [],
   "source": [
    "#c. Add custom classifier with several layers of trainable parameters to model\n",
    "from tensorflow.keras.models import Model\n",
    "x = Flatten()(basem.output)\n",
    "x = Dense(64, activation='relu')(x)\n",
    "predictions = Dense(102, activation='softmax')(x)\n",
    "\n",
    "# Create the model\n",
    "model = Model(inputs=basem.input, outputs=predictions)\n",
    "# Compile the model\n",
    "model.compile(optimizer=\"adam\", loss='categorical_crossentropy', metrics=['accuracy'])"
   ]
  },
  {
   "cell_type": "code",
   "execution_count": 104,
   "id": "fd2ea887",
   "metadata": {},
   "outputs": [],
   "source": [
    "# Create a new model on top\n",
    "semodel = Sequential()\n",
    "semodel.add(basem)\n",
    "semodel.add(Flatten())\n",
    "semodel.add(Dense(256, activation='relu'))\n",
    "semodel.add(Dense(10, activation='softmax'))  # CIFAR-10 has 10 classe"
   ]
  },
  {
   "cell_type": "code",
   "execution_count": 105,
   "id": "5a904051",
   "metadata": {},
   "outputs": [],
   "source": [
    "# Compile the model\n",
    "semodel.compile(optimizer='adam', loss='categorical_crossentropy', metrics=['accuracy'])"
   ]
  },
  {
   "cell_type": "code",
   "execution_count": 106,
   "id": "48e87545",
   "metadata": {},
   "outputs": [
    {
     "name": "stdout",
     "output_type": "stream",
     "text": [
      "Epoch 1/2\n",
      "1563/1563 [==============================] - 368s 234ms/step - loss: 1.3478 - accuracy: 0.5284 - val_loss: 1.2273 - val_accuracy: 0.5686\n",
      "Epoch 2/2\n",
      "1563/1563 [==============================] - 386s 247ms/step - loss: 1.1702 - accuracy: 0.5914 - val_loss: 1.1830 - val_accuracy: 0.5839\n"
     ]
    },
    {
     "data": {
      "text/plain": [
       "<keras.src.callbacks.History at 0x2c410241910>"
      ]
     },
     "execution_count": 106,
     "metadata": {},
     "output_type": "execute_result"
    }
   ],
   "source": [
    "#d. Train classifier layers on training data available for task\n",
    "# Train the model\n",
    "semodel.fit(itrain, ltrain, epochs=2, batch_size=32, validation_data=(itest, ltest))"
   ]
  },
  {
   "cell_type": "code",
   "execution_count": 107,
   "id": "b6d6c42a-c632-4c26-93d5-4078244f5113",
   "metadata": {},
   "outputs": [
    {
     "name": "stdout",
     "output_type": "stream",
     "text": [
      "313/313 [==============================] - 62s 197ms/step - loss: 1.1830 - accuracy: 0.5839\n",
      "Test accuracy: 0.583899974822998\n"
     ]
    }
   ],
   "source": [
    "# Evaluate the model on test data\n",
    "ltest, atest = semodel.evaluate(itest, ltest)\n",
    "print(\"Test accuracy:\", atest)"
   ]
  },
  {
   "cell_type": "code",
   "execution_count": 144,
   "id": "7e6e74b3",
   "metadata": {},
   "outputs": [
    {
     "data": {
      "image/png": "[encoded data removed]",
      "text/plain": [
       "<PIL.JpegImagePlugin.JpegImageFile image mode=RGB size=32x32>"
      ]
     },
     "execution_count": 144,
     "metadata": {},
     "output_type": "execute_result"
    }
   ],
   "source": [
    "from PIL import Image\n",
    "img = Image.open(\"plane323.jpg\")\n",
    "img"
   ]
  },
  {
   "cell_type": "code",
   "execution_count": 145,
   "id": "474db47c-cc52-4778-8218-c10a903c2936",
   "metadata": {},
   "outputs": [],
   "source": [
    "import numpy as np\n",
    "img = tf.keras.preprocessing.image.img_to_array(img)\n",
    "img = np.array([img])"
   ]
  },
  {
   "cell_type": "code",
   "execution_count": 146,
   "id": "25fa2bfc-a738-4540-857d-a9625a782cd8",
   "metadata": {},
   "outputs": [
    {
     "name": "stdout",
     "output_type": "stream",
     "text": [
      "1/1 [==============================] - 0s 26ms/step\n"
     ]
    }
   ],
   "source": [
    "res = semodel.predict(img)"
   ]
  },
  {
   "cell_type": "code",
   "execution_count": 147,
   "id": "a170cd35-f264-4cfd-a88a-14208eea3f3c",
   "metadata": {},
   "outputs": [
    {
     "data": {
      "text/plain": [
       "'horse'"
      ]
     },
     "execution_count": 147,
     "metadata": {},
     "output_type": "execute_result"
    }
   ],
   "source": [
    "labels = '''airplane automobile bird cat deer dog frog horse ship truck'''.split()\n",
    "labels[res.argmax()]"
   ]
  },
  {
   "cell_type": "code",
   "execution_count": null,
   "id": "e84cb8b6-8727-441d-a2ce-947ad0ab4adc",
   "metadata": {},
   "outputs": [],
   "source": []
  }
 ],
 "metadata": {
  "kernelspec": {
   "display_name": "Python 3 (ipykernel)",
   "language": "python",
   "name": "python3"
  },
  "language_info": {
   "codemirror_mode": {
    "name": "ipython",
    "version": 3
   },
   "file_extension": ".py",
   "mimetype": "text/x-python",
   "name": "python",
   "nbconvert_exporter": "python",
   "pygments_lexer": "ipython3",
   "version": "3.11.3"
  }
 },
 "nbformat": 4,
 "nbformat_minor": 5
}
